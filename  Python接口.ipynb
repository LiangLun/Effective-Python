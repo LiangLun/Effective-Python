{
 "cells": [
  {
   "cell_type": "markdown",
   "metadata": {},
   "source": [
    "# Python接口的概念"
   ]
  },
  {
   "cell_type": "markdown",
   "metadata": {},
   "source": [
    ">在python中根本没有interface的关键字，如下的代码只是看起来像接口，其实并没有起到接口的作用"
   ]
  },
  {
   "cell_type": "markdown",
   "metadata": {},
   "source": [
    "## 1.利用NotImplementedError"
   ]
  },
  {
   "cell_type": "code",
   "execution_count": 9,
   "metadata": {},
   "outputs": [],
   "source": [
    "class Payment:\n",
    "    def pay(self):\n",
    "        raise NotImplementedError\n",
    "\n",
    "class ApplePay(Payment):\n",
    "    def zhifu(self, money):\n",
    "        print(\"ApplePay zhifu %d\" %money)\n",
    "    # 必须实现pay方法，否则报错NotImplementedError\n",
    "    def pay(self):\n",
    "        print(\"ApplePay\")"
   ]
  },
  {
   "cell_type": "code",
   "execution_count": 10,
   "metadata": {},
   "outputs": [
    {
     "name": "stdout",
     "output_type": "stream",
     "text": [
      "ApplePay zhifu 200\n"
     ]
    }
   ],
   "source": [
    "app = ApplePay()\n",
    "app.zhifu(200)"
   ]
  },
  {
   "cell_type": "code",
   "execution_count": 11,
   "metadata": {},
   "outputs": [
    {
     "name": "stdout",
     "output_type": "stream",
     "text": [
      "ApplePay\n"
     ]
    }
   ],
   "source": [
    "#ApplePay必须实现，才调用不报错\n",
    "app.pay()"
   ]
  },
  {
   "cell_type": "markdown",
   "metadata": {},
   "source": [
    "## 2.利用abstractmethod"
   ]
  },
  {
   "cell_type": "markdown",
   "metadata": {},
   "source": [
    ">注意事项： \n",
    "\n",
    ">子类必须全部实现重写父类的abstractmethod方法 \n",
    "\n",
    ">非abstractmethod方法可以不实现重写 \n",
    "\n",
    ">带abstractmethod方法的类不能实例化"
   ]
  },
  {
   "cell_type": "code",
   "execution_count": 12,
   "metadata": {},
   "outputs": [],
   "source": [
    "#接口类\n",
    "from abc import ABCMeta,abstractmethod\n",
    "# 父类\n",
    "class Payment(metaclass=ABCMeta):\n",
    "    def __init__(self,name):\n",
    "        print(self)\n",
    "        self.name = name\n",
    "    @abstractmethod\n",
    "    def pay(self, money):\n",
    "        pass\n",
    "    @abstractmethod\n",
    "    def get(self, money):\n",
    "        print(\"Payment get %d\" % money)\n",
    "    def total(self, money):\n",
    "        print(\"Payment total %d\" % money)\n",
    "    def __init__(self,name):\n",
    "        print(self)\n",
    "        self.name = name\n",
    "# 子类\n",
    "class AppPay(Payment):\n",
    "    def pay(self, money):\n",
    "        print(\"AppPay pay %d\" % money)\n",
    "    def get(self,money):\n",
    "        print(\"AppPay get %d\" % money)\n",
    "        \n"
   ]
  },
  {
   "cell_type": "code",
   "execution_count": 15,
   "metadata": {},
   "outputs": [
    {
     "name": "stdout",
     "output_type": "stream",
     "text": [
      "<__main__.AppPay object at 0x00000222AB58F780>\n",
      "AppPay pay 100\n",
      "AppPay get 200\n",
      "Payment total 400\n"
     ]
    }
   ],
   "source": [
    "app = AppPay(\"safly\")\n",
    "app.pay(100)\n",
    "app.get(200)\n",
    "app.total(400)"
   ]
  },
  {
   "cell_type": "code",
   "execution_count": 16,
   "metadata": {},
   "outputs": [
    {
     "ename": "TypeError",
     "evalue": "Can't instantiate abstract class Payment with abstract methods get, pay",
     "output_type": "error",
     "traceback": [
      "\u001b[1;31m---------------------------------------------------------------------------\u001b[0m",
      "\u001b[1;31mTypeError\u001b[0m                                 Traceback (most recent call last)",
      "\u001b[1;32m<ipython-input-16-3f7e53928352>\u001b[0m in \u001b[0;36m<module>\u001b[1;34m\u001b[0m\n\u001b[1;32m----> 1\u001b[1;33m \u001b[0ma\u001b[0m \u001b[1;33m=\u001b[0m \u001b[0mPayment\u001b[0m\u001b[1;33m(\u001b[0m\u001b[1;34m\"safly\"\u001b[0m\u001b[1;33m)\u001b[0m\u001b[1;33m\u001b[0m\u001b[1;33m\u001b[0m\u001b[0m\n\u001b[0m",
      "\u001b[1;31mTypeError\u001b[0m: Can't instantiate abstract class Payment with abstract methods get, pay"
     ]
    }
   ],
   "source": [
    "# 不能实例化，带abstractmethod方法的类不能实例化\n",
    "a = Payment(\"safly\")"
   ]
  },
  {
   "cell_type": "markdown",
   "metadata": {},
   "source": [
    "## 3.抽象类"
   ]
  },
  {
   "cell_type": "markdown",
   "metadata": {},
   "source": [
    ">与java一样，python也有抽象类的概念但是同样需要借助模块实现，抽象类是一个特殊的类，它的特殊之处在于只能被继承，不能被实例化"
   ]
  },
  {
   "cell_type": "code",
   "execution_count": 17,
   "metadata": {},
   "outputs": [
    {
     "name": "stdout",
     "output_type": "stream",
     "text": [
      "file open\n"
     ]
    }
   ],
   "source": [
    "# 与上面的相同\n",
    "\n",
    "from abc import ABCMeta,abstractmethod\n",
    "class Base(metaclass=ABCMeta):\n",
    "    def __init__(self,fName):\n",
    "        self.fName = fName;\n",
    "\n",
    "    @abstractmethod\n",
    "    def open(self):pass\n",
    "\n",
    "class File(Base):\n",
    "    def open(self):\n",
    "        print(\"file open\")\n",
    "\n",
    "file = File(\"safly\")\n",
    "file.open()\n"
   ]
  },
  {
   "cell_type": "markdown",
   "metadata": {},
   "source": [
    "## 4.多态概念"
   ]
  },
  {
   "cell_type": "code",
   "execution_count": 18,
   "metadata": {},
   "outputs": [],
   "source": [
    "from abc import ABCMeta, abstractmethod\n",
    "# 父类\n",
    "class Base(metaclass=ABCMeta):\n",
    "    @abstractmethod\n",
    "    def talk(self):\n",
    "        pass\n",
    "\n",
    "# 子类1\n",
    "class Pig(Base):\n",
    "    def talk(self):\n",
    "        print(\"pig talk\")\n",
    "\n",
    "# 子类2\n",
    "class People(Base):\n",
    "    def talk(self):\n",
    "        print(\"People talk\")"
   ]
  },
  {
   "cell_type": "code",
   "execution_count": 19,
   "metadata": {},
   "outputs": [
    {
     "name": "stdout",
     "output_type": "stream",
     "text": [
      "pig talk\n",
      "People talk\n"
     ]
    }
   ],
   "source": [
    "pig = Pig()\n",
    "people = People()\n",
    "pig.talk()\n",
    "people.talk()"
   ]
  },
  {
   "cell_type": "markdown",
   "metadata": {},
   "source": [
    "## 5.私有属性和私有方法"
   ]
  },
  {
   "cell_type": "code",
   "execution_count": 22,
   "metadata": {},
   "outputs": [
    {
     "name": "stdout",
     "output_type": "stream",
     "text": [
      "safly\n",
      "100\n"
     ]
    }
   ],
   "source": [
    "# 私有属性\n",
    "class Room:\n",
    "    def __init__(self, name, area):\n",
    "        self.name = name\n",
    "        #  私有属性     \n",
    "        self.__area = area\n",
    "    def getArea(self):\n",
    "        return self.__area\n",
    "    \n",
    "room = Room(\"safly\",100)\n",
    "print(room.name)\n",
    "print(room.getArea())\n",
    "#不能如下方法调用私有对象属性\n",
    "# print(room.__area)"
   ]
  },
  {
   "cell_type": "markdown",
   "metadata": {},
   "source": [
    "## 6.property方法转属性"
   ]
  },
  {
   "cell_type": "markdown",
   "metadata": {},
   "source": [
    ">@property 把一个方法 伪装成一个属性\n",
    "\n",
    "1.属性的值 是这个方法的返回值 \n",
    "2.这个方法不能有参数了 \n",
    "3.类不能调用，只能对象调用"
   ]
  },
  {
   "cell_type": "code",
   "execution_count": 23,
   "metadata": {},
   "outputs": [
    {
     "name": "stdout",
     "output_type": "stream",
     "text": [
      "25.05930702662969\n",
      "43.35260115606936\n"
     ]
    }
   ],
   "source": [
    "class Person:\n",
    "    def __init__(self,name,height,weight):\n",
    "        self.name = name\n",
    "        self.height = height\n",
    "        self.weight = weight\n",
    "    @property\n",
    "    def bmi(self):\n",
    "        return self.weight / (self.height**2)\n",
    "    \n",
    "    def bmi2(self):\n",
    "        return self.weight / (self.height)\n",
    "# 实例化\n",
    "per = Person(\"safly\",1.73,75)\n",
    "# 调用方法不同\n",
    "print(per.bmi)\n",
    "print(per.bmi2())"
   ]
  },
  {
   "cell_type": "markdown",
   "metadata": {},
   "source": [
    "### property-setter设置值"
   ]
  },
  {
   "cell_type": "code",
   "execution_count": 24,
   "metadata": {},
   "outputs": [
    {
     "name": "stdout",
     "output_type": "stream",
     "text": [
      "8.0\n",
      "16.0\n"
     ]
    }
   ],
   "source": [
    "class Goods:\n",
    "    discount = 0.8\n",
    "    def __init__(self,name,price):\n",
    "        self.name = name\n",
    "        self.price = price\n",
    "\n",
    "    @property\n",
    "    def getPrice(self):\n",
    "        return self.price * Goods.discount\n",
    "    #  重新设置值    \n",
    "    @getPrice.setter\n",
    "    def getPrice(self,newPrice):\n",
    "        self.price= newPrice\n",
    "\n",
    "app = Goods(\"apple\",10)\n",
    "print(app.getPrice)\n",
    "\n",
    "# 重新给price赋值\n",
    "app.getPrice = 20\n",
    "\n",
    "print(app.getPrice)"
   ]
  },
  {
   "cell_type": "code",
   "execution_count": null,
   "metadata": {},
   "outputs": [],
   "source": []
  }
 ],
 "metadata": {
  "kernelspec": {
   "display_name": "Python 3",
   "language": "python",
   "name": "python3"
  },
  "language_info": {
   "codemirror_mode": {
    "name": "ipython",
    "version": 3
   },
   "file_extension": ".py",
   "mimetype": "text/x-python",
   "name": "python",
   "nbconvert_exporter": "python",
   "pygments_lexer": "ipython3",
   "version": "3.7.3"
  }
 },
 "nbformat": 4,
 "nbformat_minor": 2
}
