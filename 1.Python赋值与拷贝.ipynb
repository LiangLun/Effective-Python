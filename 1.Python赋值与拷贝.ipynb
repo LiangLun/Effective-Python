{
 "cells": [
  {
   "cell_type": "markdown",
   "metadata": {},
   "source": [
    "# Python赋值与引用"
   ]
  },
  {
   "cell_type": "markdown",
   "metadata": {},
   "source": [
    "## 1.引用和对象理解"
   ]
  },
  {
   "cell_type": "markdown",
   "metadata": {},
   "source": [
    "python中变量名和对象是分离的\n",
    "如a = 1, a为引用，1为对象。"
   ]
  },
  {
   "cell_type": "code",
   "execution_count": 3,
   "metadata": {},
   "outputs": [
    {
     "name": "stdout",
     "output_type": "stream",
     "text": [
      "1562271904\n",
      "1562271904\n"
     ]
    }
   ],
   "source": [
    "a = 1\n",
    "b = 1\n",
    "print(id(a))\n",
    "print(id(b))"
   ]
  },
  {
   "cell_type": "code",
   "execution_count": 7,
   "metadata": {},
   "outputs": [
    {
     "data": {
      "text/plain": [
       "(2628633688136, 2628614380744)"
      ]
     },
     "execution_count": 7,
     "metadata": {},
     "output_type": "execute_result"
    }
   ],
   "source": [
    "L1 = [1, 2, 3]\n",
    "L2 = [1, 2, 3]\n",
    "id(L1), id(L2)"
   ]
  },
  {
   "cell_type": "markdown",
   "metadata": {},
   "source": [
    "> 可以看出第一个例子两个引用指向了同一个对象，而第二个例子没有。这个跟python的内存机制有关系，因为对于语言来说，频繁的进行对象的销毁和建立，特别浪费性能。所以在Python中，整数和短小的字符，Python都会缓存这些对象，以便重复使用。"
   ]
  },
  {
   "cell_type": "markdown",
   "metadata": {},
   "source": [
    "## 2.赋值"
   ]
  },
  {
   "cell_type": "code",
   "execution_count": 8,
   "metadata": {},
   "outputs": [
    {
     "name": "stdout",
     "output_type": "stream",
     "text": [
      "1562272000 1562272000\n"
     ]
    },
    {
     "data": {
      "text/plain": [
       "(1562272128, 1562272000, 8, 4)"
      ]
     },
     "execution_count": 8,
     "metadata": {},
     "output_type": "execute_result"
    }
   ],
   "source": [
    "a = b = 4\n",
    "print(id(a), id(b))\n",
    "a = 8\n",
    "id(a), id(b), a, b"
   ]
  },
  {
   "cell_type": "code",
   "execution_count": 10,
   "metadata": {},
   "outputs": [
    {
     "name": "stdout",
     "output_type": "stream",
     "text": [
      "2373203129736 2373203129736\n"
     ]
    },
    {
     "data": {
      "text/plain": [
       "(2373203129736, 2373203129736, [10, 2, 3], [10, 2, 3])"
      ]
     },
     "execution_count": 10,
     "metadata": {},
     "output_type": "execute_result"
    }
   ],
   "source": [
    "L1 = [1, 2, 3]\n",
    "L2 = L1\n",
    "print(id(L1), id(L2))\n",
    "L1[0] = 10\n",
    "id(L1), id(L2), L1, L2"
   ]
  },
  {
   "cell_type": "markdown",
   "metadata": {
    "collapsed": true
   },
   "source": [
    "第一个例子是对a进行了重新赋值，让它指向了新的对象\n",
    "而第二个例子修改了其中一个对象的值，可以发现结果与第一个例子不同"
   ]
  },
  {
   "cell_type": "markdown",
   "metadata": {
    "collapsed": true
   },
   "source": [
    ">原因：列表可以通过引用其元素，改变对象自身(in-place change)。这种对象类型，称为可变数据对象(mutable object)，词典、集合也是这样的数据类型。\n",
    "   >  数字、字符串和元组不能改变对象本身，只能改变引用的指向，称为不可变数据对象(immutable object)。"
   ]
  },
  {
   "cell_type": "markdown",
   "metadata": {},
   "source": [
    "## 3.浅拷贝与深拷贝"
   ]
  },
  {
   "cell_type": "markdown",
   "metadata": {},
   "source": [
    "### 3.1 浅拷贝"
   ]
  },
  {
   "cell_type": "code",
   "execution_count": 13,
   "metadata": {},
   "outputs": [
    {
     "name": "stdout",
     "output_type": "stream",
     "text": [
      "2373203128584 2373203251976 [1, 2, 3] [1, 2, 3]\n"
     ]
    }
   ],
   "source": [
    "L1 = [1, 2, 3]\n",
    "L2 = L1.copy()\n",
    "print(id(L1), id(L2), L1, L2)"
   ]
  },
  {
   "cell_type": "code",
   "execution_count": 14,
   "metadata": {},
   "outputs": [
    {
     "name": "stdout",
     "output_type": "stream",
     "text": [
      "2373203128584 2373203251976 [10, 2, 3] [1, 2, 3]\n"
     ]
    }
   ],
   "source": [
    "L1[0] = 10\n",
    "print(id(L1), id(L2), L1, L2)"
   ]
  },
  {
   "cell_type": "markdown",
   "metadata": {},
   "source": [
    "可以看到浅拷贝后的地址不同"
   ]
  },
  {
   "cell_type": "code",
   "execution_count": 3,
   "metadata": {},
   "outputs": [
    {
     "name": "stdout",
     "output_type": "stream",
     "text": [
      "2628633602440 2628633441352 ['Jack', ['age', 10]] ['Jack', ['age', 10]]\n",
      "2628633134224 2628633602312\n",
      "2628633134224 2628633602312\n"
     ]
    }
   ],
   "source": [
    "Jack = ['Jack', ['age', 10]]\n",
    "Tom = Jack.copy()\n",
    "print(id(Jack), id(Tom), Jack, Tom)\n",
    "print(id(Jack[0]), id(Jack[1]))\n",
    "print(id(Tom[0]), id(Tom[1]))"
   ]
  },
  {
   "cell_type": "markdown",
   "metadata": {
    "collapsed": true
   },
   "source": [
    "可以看到队列里面的元素地址是相同的，因为浅拷贝 拷贝了一个整体的对象(应该说一个对象最外面的那一层)，而对于对象里面包含的元素不会进行拷贝，而是进行了赋值。"
   ]
  },
  {
   "cell_type": "code",
   "execution_count": 4,
   "metadata": {},
   "outputs": [
    {
     "name": "stdout",
     "output_type": "stream",
     "text": [
      "['Jack', ['age', 20]]\n",
      "['Tom', ['age', 20]]\n"
     ]
    }
   ],
   "source": [
    "Tom[0] = 'Tom'\n",
    "Tom[1][1] = 20\n",
    "print(Jack)\n",
    "print(Tom)"
   ]
  },
  {
   "cell_type": "markdown",
   "metadata": {},
   "source": [
    "可以看到Jack里面的Jack没有变成Tom,10却变成了20。\n",
    "这是因为在python中的分为 可变数据对象(列表，字典) 和 不可变数据对象(整型，字符串，浮点型，元祖)。"
   ]
  },
  {
   "cell_type": "markdown",
   "metadata": {},
   "source": [
    "> 浅拷贝总结：**拷贝 拷贝了一个整体的对象(应该说一个对象最外面的那一层)，而对于对象里面包含的元素不会进行拷贝，而是进行了赋值。**"
   ]
  },
  {
   "cell_type": "markdown",
   "metadata": {
    "collapsed": true
   },
   "source": [
    "### 3.2 深拷贝"
   ]
  },
  {
   "cell_type": "markdown",
   "metadata": {},
   "source": [
    "我们 利用copy中的deepcopy方法  来阐述一下 深拷贝"
   ]
  },
  {
   "cell_type": "code",
   "execution_count": 6,
   "metadata": {},
   "outputs": [
    {
     "name": "stdout",
     "output_type": "stream",
     "text": [
      "2628633602696 2628633602504 ['Jack', ['age', 10]] ['Jack', ['age', 10]]\n",
      "2628633134224 2628614371080\n",
      "2628633134224 2628633081800\n"
     ]
    }
   ],
   "source": [
    "import copy\n",
    "Jack = ['Jack', ['age', 10]]\n",
    "Tom = copy.deepcopy(Jack)\n",
    "print(id(Jack), id(Tom), Jack, Tom)\n",
    "print(id(Jack[0]), id(Jack[1]))\n",
    "print(id(Tom[0]), id(Tom[1]))"
   ]
  },
  {
   "cell_type": "markdown",
   "metadata": {},
   "source": [
    "可以看到深拷贝后，队列里的元素地址也是不同的"
   ]
  },
  {
   "cell_type": "code",
   "execution_count": 8,
   "metadata": {},
   "outputs": [
    {
     "name": "stdout",
     "output_type": "stream",
     "text": [
      "['Jack', ['age', 10]]\n",
      "['Tom', ['age', 20]]\n"
     ]
    }
   ],
   "source": [
    "Tom[0] = 'Tom'\n",
    "Tom[1][1] = 20\n",
    "print(Jack)\n",
    "print(Tom)"
   ]
  },
  {
   "cell_type": "markdown",
   "metadata": {
    "collapsed": true
   },
   "source": [
    "可以看到，只要Tom变了，而Jack没变。"
   ]
  },
  {
   "cell_type": "markdown",
   "metadata": {
    "collapsed": true
   },
   "source": [
    ">总结：**深拷贝对元素进行了彻底的拷贝(包括内部元素)。**"
   ]
  }
 ],
 "metadata": {
  "kernelspec": {
   "display_name": "Python 3",
   "language": "python",
   "name": "python3"
  },
  "language_info": {
   "codemirror_mode": {
    "name": "ipython",
    "version": 3
   },
   "file_extension": ".py",
   "mimetype": "text/x-python",
   "name": "python",
   "nbconvert_exporter": "python",
   "pygments_lexer": "ipython3",
   "version": "3.7.3"
  }
 },
 "nbformat": 4,
 "nbformat_minor": 2
}
