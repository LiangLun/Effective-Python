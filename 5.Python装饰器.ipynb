{
 "cells": [
  {
   "cell_type": "markdown",
   "metadata": {},
   "source": [
    "# Python装饰器"
   ]
  },
  {
   "cell_type": "markdown",
   "metadata": {},
   "source": [
    "**装饰器本质上是一个 Python 函数或类**，它可以让其他函数或类在不需要做任何代码修改的前提下增加额外功能，装饰器的返回值也是一个函数/类对象。它经常用于有切面需求的场景，比如：**插入日志、性能测试、事务处理、缓存、权限校验等场景**，装饰器是解决这类问题的绝佳设计。有了装饰器，我们就可以抽离出大量与函数功能本身无关的雷同代码到装饰器中并继续重用。概括的讲，**装饰器的作用就是为已经存在的对象添加额外的功能**。"
   ]
  },
  {
   "cell_type": "markdown",
   "metadata": {},
   "source": [
    "## 1.引言（Python函数）"
   ]
  },
  {
   "cell_type": "markdown",
   "metadata": {},
   "source": [
    "Python 中的函数和 Java、C++不太一样，**Python 中的函数可以像普通变量一样当做参数传递给另外一个函数**。"
   ]
  },
  {
   "cell_type": "code",
   "execution_count": 19,
   "metadata": {},
   "outputs": [
    {
     "name": "stdout",
     "output_type": "stream",
     "text": [
      "I receive a function\n",
      "this is what I want\n"
     ]
    }
   ],
   "source": [
    "def test():\n",
    "    print(\"this is what I want\")\n",
    "\n",
    "def receive(func):\n",
    "    print(\"I receive a function\")\n",
    "    func()\n",
    "\n",
    "receive(test)"
   ]
  },
  {
   "cell_type": "markdown",
   "metadata": {},
   "source": [
    ">装饰器在 Python 使用如此方便都要归因于 Python 的函数能像普通的对象一样能\n",
    "1.**作为参数**传递给其他函数，可以被赋值给其他变量\n",
    "2.**可以作为返回值**\n",
    "3.可以被**定义在另外一个函数内**。"
   ]
  },
  {
   "cell_type": "markdown",
   "metadata": {
    "collapsed": true
   },
   "source": [
    "## 2.简单理解装饰器"
   ]
  },
  {
   "cell_type": "markdown",
   "metadata": {},
   "source": [
    "一个**简答例子**帮助理解"
   ]
  },
  {
   "cell_type": "markdown",
   "metadata": {},
   "source": [
    "**（1）一个简单的业务函数如下：**"
   ]
  },
  {
   "cell_type": "code",
   "execution_count": 2,
   "metadata": {},
   "outputs": [
    {
     "name": "stdout",
     "output_type": "stream",
     "text": [
      "this is what I want\n"
     ]
    }
   ],
   "source": [
    "def test():\n",
    "    print(\"this is what I want\")\n",
    "test()"
   ]
  },
  {
   "cell_type": "markdown",
   "metadata": {},
   "source": [
    "**（2）后来需要加一个新需求**"
   ]
  },
  {
   "cell_type": "code",
   "execution_count": 3,
   "metadata": {},
   "outputs": [
    {
     "name": "stdout",
     "output_type": "stream",
     "text": [
      "call test()\n",
      "this is what I want\n"
     ]
    }
   ],
   "source": [
    "def test():\n",
    "    print(\"call test()\")  #新需求\n",
    "    print(\"this is what I want\")\n",
    "test()"
   ]
  },
  {
   "cell_type": "markdown",
   "metadata": {},
   "source": [
    ">如果函数 test()、test2()……等一大组函数也有类似的需求，需要在这些函数里重复写新需求，造成问题：\n",
    "1.修改工作量大\n",
    "2.造成大量雷同的代码\n",
    "3.不利于之后的业务扩展"
   ]
  },
  {
   "cell_type": "markdown",
   "metadata": {},
   "source": [
    "**（3）一种简单方法是用引言的方法，实现如下：**"
   ]
  },
  {
   "cell_type": "code",
   "execution_count": 1,
   "metadata": {},
   "outputs": [
    {
     "name": "stdout",
     "output_type": "stream",
     "text": [
      "call test()\n",
      "this is what I want\n"
     ]
    }
   ],
   "source": [
    "def log(func):\n",
    "    print(\"call test()\") \n",
    "    func()\n",
    "\n",
    "def test():\n",
    "    print(\"this is what I want\")\n",
    "\n",
    "log(test)"
   ]
  },
  {
   "cell_type": "markdown",
   "metadata": {},
   "source": [
    ">但是可以简单看出该方法的问题:\n",
    "上面的修改实现了功能（不改变业务函数，加入新功能）,但是**调用的时候不再是调用真正的业务函数test()，而是调用辅助函数log()**。"
   ]
  },
  {
   "cell_type": "markdown",
   "metadata": {},
   "source": [
    "**（4）引出了简单装饰器的方法**"
   ]
  },
  {
   "cell_type": "code",
   "execution_count": 16,
   "metadata": {},
   "outputs": [
    {
     "name": "stdout",
     "output_type": "stream",
     "text": [
      "<function log.<locals>.wrapper at 0x000001510FACCBF8>\n",
      "call test()\n",
      "this is what I want\n"
     ]
    }
   ],
   "source": [
    "def log(func):\n",
    "    def wrapper():\n",
    "        print(\"call test()\") \n",
    "        func()\n",
    "    return wrapper\n",
    "\n",
    "def test():\n",
    "    print(\"this is what I want\")\n",
    "\n",
    "# 因为装饰器 use_logging(test) 返回的是函数对象 wrapper\n",
    "# 这条语句相当于  test = wrapper\n",
    "test= log(test) \n",
    "print(test)\n",
    "test()  # 执行test() 相当于执行 wrapper()"
   ]
  },
  {
   "cell_type": "markdown",
   "metadata": {},
   "source": [
    ">辅助函数log()就是一个装饰器，它把执行真正业务函数 func 包裹在其中，看起来像 test()被log()装饰了一样。\n",
    "**这么做可以实现面向切面编程AOP**。"
   ]
  },
  {
   "cell_type": "markdown",
   "metadata": {},
   "source": [
    "**（4）引出 @ 语法糖来实现装饰器**"
   ]
  },
  {
   "cell_type": "markdown",
   "metadata": {},
   "source": [
    "对上面程序进行改写"
   ]
  },
  {
   "cell_type": "code",
   "execution_count": null,
   "metadata": {
    "collapsed": true
   },
   "outputs": [],
   "source": [
    "def log(func):\n",
    "    def wrapper():\n",
    "        print(\"call test()\")\n",
    "        func()\n",
    "    return wrapper\n",
    "\n",
    "@log\n",
    "def test():\n",
    "    print(\"this is what I want\")\n",
    "\n",
    "test()"
   ]
  },
  {
   "cell_type": "markdown",
   "metadata": {},
   "source": [
    "@log实现了test= log(test) 的功能。\n",
    ">如此一来，业务函数test()不需要做任何修改，只需在定义的地方加上装饰器，调用的时候不用加任何修饰。\n",
    "这样，我们就提高了程序的可重复利用性，并增加了程序的可读性。"
   ]
  },
  {
   "cell_type": "markdown",
   "metadata": {},
   "source": [
    "## 3.带参数的业务函数"
   ]
  },
  {
   "cell_type": "markdown",
   "metadata": {},
   "source": [
    "**（1）首先回顾包裹传递法。**"
   ]
  },
  {
   "cell_type": "code",
   "execution_count": 18,
   "metadata": {},
   "outputs": [
    {
     "name": "stdout",
     "output_type": "stream",
     "text": [
      "args =  (1, 2, 3, 4)\n",
      "kwargs =  {}\n",
      "---------------------------------------\n",
      "args =  ()\n",
      "kwargs =  {'a': 1, 'b': 2, 'c': 3}\n",
      "---------------------------------------\n",
      "args =  (1, 2, 3, 4)\n",
      "kwargs =  {'a': 1, 'b': 2, 'c': 3}\n",
      "---------------------------------------\n",
      "args =  ('a', 1, None)\n",
      "kwargs =  {'a': 1, 'b': '2', 'c': 3}\n",
      "---------------------------------------\n"
     ]
    }
   ],
   "source": [
    "def foo(*args, **kwargs):\n",
    "    print('args = ', args)\n",
    "    print('kwargs = ', kwargs)\n",
    "    print('---------------------------------------')\n",
    "\n",
    "if __name__ == '__main__':\n",
    "    foo(1,2,3,4)\n",
    "    foo(a=1,b=2,c=3)\n",
    "    foo(1,2,3,4, a=1,b=2,c=3)\n",
    "    foo('a', 1, None, a=1, b='2', c=3)"
   ]
  },
  {
   "cell_type": "markdown",
   "metadata": {},
   "source": [
    ">\\*args表示任何多个无名参数，它是一个tuple\n",
    "\\*\\*kwargs表示关键字参数，它是一个dict\n",
    "同时使用\\*args和\\*\\*kwargs时，必须\\*args参数列要在\\*\\*kwargs前"
   ]
  },
  {
   "cell_type": "markdown",
   "metadata": {},
   "source": [
    "**（2）带有有限个参数**"
   ]
  },
  {
   "cell_type": "markdown",
   "metadata": {},
   "source": [
    "当业务函数test()需要参数，比如 test(a,b)，实现如下："
   ]
  },
  {
   "cell_type": "code",
   "execution_count": 19,
   "metadata": {},
   "outputs": [
    {
     "name": "stdout",
     "output_type": "stream",
     "text": [
      "call test(2，4)\n",
      "sum = 6\n"
     ]
    }
   ],
   "source": [
    "def log(func):\n",
    "    def wrapper(a,b):\n",
    "        print(\"call test(%d，%d)\" %(a,b))\n",
    "        func(a,b)\n",
    "    return wrapper\n",
    "\n",
    "@log\n",
    "def test(a,b):\n",
    "    print(\"sum = %d\" % (a+b))\n",
    "\n",
    "test(2,4)"
   ]
  },
  {
   "cell_type": "markdown",
   "metadata": {},
   "source": [
    "**（3）带有可变数量的参数**"
   ]
  },
  {
   "cell_type": "markdown",
   "metadata": {},
   "source": [
    "当装饰器不知道业务函数到底有多少个参数时，用\\*args 来代替"
   ]
  },
  {
   "cell_type": "code",
   "execution_count": 20,
   "metadata": {},
   "outputs": [
    {
     "name": "stdout",
     "output_type": "stream",
     "text": [
      "call test()\n",
      "sum = 11\n"
     ]
    }
   ],
   "source": [
    "def log(func):\n",
    "    def wrapper(*args):\n",
    "        print(\"call test()\" )\n",
    "        func(*args)\n",
    "    return wrapper\n",
    "\n",
    "@log\n",
    "def test(a,b,c):\n",
    "    print(\"sum = %d\" % (a+b+c))\n",
    "\n",
    "test(2,4,5)"
   ]
  },
  {
   "cell_type": "markdown",
   "metadata": {
    "collapsed": true
   },
   "source": [
    "**（4）含关键字的可变参数**"
   ]
  },
  {
   "cell_type": "code",
   "execution_count": 1,
   "metadata": {},
   "outputs": [
    {
     "name": "stdout",
     "output_type": "stream",
     "text": [
      "call test()\n",
      "sum = 11,way = add\n"
     ]
    }
   ],
   "source": [
    "def log(func):\n",
    "    def wrapper(*args, **kwargs):\n",
    "        print(\"call test()\" )\n",
    "        func(*args, **kwargs)\n",
    "    return wrapper\n",
    "\n",
    "@log\n",
    "def test(a,b,c,way=None):\n",
    "    print(\"sum = %d,way = %s\" % ((a+b+c),way))\n",
    "\n",
    "test(2,4,5,\"add\")"
   ]
  },
  {
   "cell_type": "markdown",
   "metadata": {},
   "source": [
    "## 4.带参数的装饰器"
   ]
  },
  {
   "cell_type": "markdown",
   "metadata": {},
   "source": [
    "装饰器还有更大的灵活性，例如带参数的装饰器，在上面的装饰器调用中，该装饰器接收唯一的参数就是业务函数 test()。\n",
    "\n",
    "\n"
   ]
  },
  {
   "cell_type": "markdown",
   "metadata": {},
   "source": [
    "装饰器的语法允许我们在调用时，提供其它参数，比如@decorator(a)。这样，就为装饰器的编写和使用提供了更大的灵活性。比如，我们可以在装饰器中指定日志的等级，因为不同业务函数可能需要的日志级别是不一样的。"
   ]
  },
  {
   "cell_type": "code",
   "execution_count": 5,
   "metadata": {},
   "outputs": [
    {
     "name": "stdout",
     "output_type": "stream",
     "text": [
      "test waring\n",
      "this is what I want\n",
      "test2 infomation get\n",
      "this is also what I want\n"
     ]
    }
   ],
   "source": [
    "def log(level):\n",
    "    def decorator(func):\n",
    "        def wrapper(*args, **kwargs):\n",
    "            if level == \"warn\":\n",
    "                print(\"%s waring\" % func.__name__)\n",
    "            elif level == \"info\":\n",
    "                print(\"%s infomation get\" % func.__name__)\n",
    "            return func(*args, **kwargs)\n",
    "        return wrapper\n",
    "    return decorator\n",
    "\n",
    "\n",
    "@log(level=\"warn\")\n",
    "def test():\n",
    "    print(\"this is what I want\")\n",
    "\n",
    "@log(level=\"info\")\n",
    "def test2():\n",
    "    print(\"this is also what I want\")\n",
    "\n",
    "test()\n",
    "test2()"
   ]
  },
  {
   "cell_type": "markdown",
   "metadata": {},
   "source": [
    "上面的 log() 是允许带参数的装饰器。它实际上是对原有装饰器的一个函数封装，并返回一个装饰器。我们可以将它理解为一个含有参数的闭包。当我们用@log(level=\"warn\")调用的时候，Python 能够发现这一层的封装，并把参数传递到装饰器的环境中。"
   ]
  },
  {
   "cell_type": "markdown",
   "metadata": {},
   "source": [
    "## 5.类装饰器"
   ]
  },
  {
   "cell_type": "markdown",
   "metadata": {},
   "source": [
    "装饰器不仅可以是函数，还可以是类；相比函数装饰器，类装饰器具有灵活度大、高内聚、封装性等优点。"
   ]
  },
  {
   "cell_type": "markdown",
   "metadata": {},
   "source": [
    ">**用法:**\n",
    "1.让类的构造函数__init__()接受一个函数；\n",
    "2.**重载**__call__()**并 返回一个函数**；\n",
    "3.使用**@类**形式将装饰器附加到业务函数上。"
   ]
  },
  {
   "cell_type": "markdown",
   "metadata": {},
   "source": [
    "**例子1：**"
   ]
  },
  {
   "cell_type": "code",
   "execution_count": 3,
   "metadata": {},
   "outputs": [
    {
     "name": "stdout",
     "output_type": "stream",
     "text": [
      "before class decorator\n",
      "this is what I want\n",
      "after class decorator\n"
     ]
    },
    {
     "data": {
      "text/plain": [
       "<function __main__.test>"
      ]
     },
     "execution_count": 3,
     "metadata": {},
     "output_type": "execute_result"
    }
   ],
   "source": [
    "class DecorateDemo(object):\n",
    "    def  __init__(self, func):\n",
    "        self.__func = func\n",
    "    def  __call__(self):\n",
    "        print(\"before class decorator\")\n",
    "        self.__func()\n",
    "        print(\"after class decorator\")\n",
    "        return self.__func\n",
    "\n",
    "@DecorateDemo\n",
    "def test():\n",
    "    print(\"this is what I want\")\n",
    "\n",
    "test()"
   ]
  },
  {
   "cell_type": "markdown",
   "metadata": {},
   "source": [
    "**例子2：**"
   ]
  },
  {
   "cell_type": "code",
   "execution_count": 4,
   "metadata": {},
   "outputs": [
    {
     "name": "stdout",
     "output_type": "stream",
     "text": [
      "inside myDecorator.__init__()\n",
      "inside aFunction()\n"
     ]
    }
   ],
   "source": [
    "class myDecorator(object):\n",
    "    def __init__(self, f):\n",
    "        print(\"inside myDecorator.__init__()\")\n",
    "        f() # Prove that function definition has completed\n",
    "    def __call__(self):\n",
    "        print(\"inside myDecorator.__call__()\")\n",
    "\n",
    "@myDecorator\n",
    "def aFunction():\n",
    "    print(\"inside aFunction()\")"
   ]
  },
  {
   "cell_type": "markdown",
   "metadata": {},
   "source": [
    ">可以看到在函数定义阶段，类初始化和自己函数的执行部分已经完成了"
   ]
  },
  {
   "cell_type": "code",
   "execution_count": 5,
   "metadata": {},
   "outputs": [
    {
     "name": "stdout",
     "output_type": "stream",
     "text": [
      "Finished decorating aFunction()\n",
      "inside myDecorator.__call__()\n"
     ]
    }
   ],
   "source": [
    "print(\"Finished decorating aFunction()\")\n",
    "\n",
    "aFunction()"
   ]
  },
  {
   "cell_type": "markdown",
   "metadata": {},
   "source": [
    ">可以看到在函数执行阶段，去执行了类的call"
   ]
  },
  {
   "cell_type": "markdown",
   "metadata": {
    "collapsed": true
   },
   "source": [
    "## 6.functools模块"
   ]
  },
  {
   "cell_type": "markdown",
   "metadata": {
    "collapsed": true
   },
   "source": [
    "functools模块提供了两个装饰器，主要用 functools.wraps。"
   ]
  },
  {
   "cell_type": "markdown",
   "metadata": {},
   "source": [
    "使用装饰器极大地复用了代码，但是他有一个缺点就是原函数的元信息不见了。"
   ]
  },
  {
   "cell_type": "markdown",
   "metadata": {},
   "source": [
    "**上面的方法（不用functools.wraps）**"
   ]
  },
  {
   "cell_type": "code",
   "execution_count": 7,
   "metadata": {},
   "outputs": [
    {
     "name": "stdout",
     "output_type": "stream",
     "text": [
      "call test()\n",
      "this is what I want\n",
      "wrapper\n"
     ]
    }
   ],
   "source": [
    "def log(func):\n",
    "    def wrapper():\n",
    "        print(\"call test()\")\n",
    "        return func()\n",
    "    return wrapper\n",
    "\n",
    "@log\n",
    "def test():\n",
    "    print(\"this is what I want\")\n",
    "\n",
    "test()\n",
    "print(test.__name__)"
   ]
  },
  {
   "cell_type": "markdown",
   "metadata": {},
   "source": [
    "**加入functools模块的方法**"
   ]
  },
  {
   "cell_type": "code",
   "execution_count": 9,
   "metadata": {},
   "outputs": [
    {
     "name": "stdout",
     "output_type": "stream",
     "text": [
      "call test()\n",
      "this is what I want\n",
      "test\n"
     ]
    }
   ],
   "source": [
    "import functools\n",
    "\n",
    "def log(func):\n",
    "    @functools.wraps(func)\n",
    "    def wrapper():\n",
    "        print(\"call test()\")\n",
    "        return func()\n",
    "    return wrapper\n",
    "\n",
    "@log\n",
    "def test():\n",
    "    print(\"this is what I want\")\n",
    "\n",
    "test()\n",
    "print(test.__name__)"
   ]
  },
  {
   "cell_type": "markdown",
   "metadata": {},
   "source": [
    "## 7. 多个装饰器"
   ]
  },
  {
   "cell_type": "markdown",
   "metadata": {},
   "source": [
    "一个函数还可以同时定义多个装饰器，比如："
   ]
  },
  {
   "cell_type": "code",
   "execution_count": null,
   "metadata": {
    "collapsed": true
   },
   "outputs": [],
   "source": [
    "@a\n",
    "@b\n",
    "@c\n",
    "def f ():\n",
    "    pass"
   ]
  },
  {
   "cell_type": "markdown",
   "metadata": {},
   "source": [
    "在上面的函数定义阶段，装饰器执行顺序是从里到外，最先调用最里层的装饰器，最后调用最外层的装饰器，即c->b->a，它等效于"
   ]
  },
  {
   "cell_type": "code",
   "execution_count": null,
   "metadata": {
    "collapsed": true
   },
   "outputs": [],
   "source": [
    "f = a(b(c(f)))"
   ]
  },
  {
   "cell_type": "markdown",
   "metadata": {},
   "source": [
    "因为a、b、c的返回值都是一个函数，所以a(b(c(f)))也是一个函数。执行函数f()相当于a(b(c(f)))(),它的执行顺序为a->b->c->f->c->b->a。"
   ]
  },
  {
   "cell_type": "markdown",
   "metadata": {},
   "source": [
    ">总的来的，f()的结果为c->b->a->a->b->c->f->c->b->a"
   ]
  },
  {
   "cell_type": "markdown",
   "metadata": {},
   "source": [
    ">即：装饰器函数的执行顺序是**分为（被装饰函数）定义阶段和（被装饰函数）执行阶段**的，装饰器函数在被装饰函数定义好后立即执行：\n",
    "\n",
    ">1.在函数定义阶段：执行顺序是从最靠近函数的装饰器开始，自内而外的执行\n",
    "\n",
    ">2.在函数执行阶段：执行顺序由外而内，一层层执行"
   ]
  },
  {
   "cell_type": "markdown",
   "metadata": {},
   "source": [
    "**例子(看例子更清楚)：**"
   ]
  },
  {
   "cell_type": "code",
   "execution_count": 1,
   "metadata": {},
   "outputs": [
    {
     "name": "stdout",
     "output_type": "stream",
     "text": [
      "hello\n",
      "log\n"
     ]
    }
   ],
   "source": [
    "def log(func):\n",
    "    print(\"log\")\n",
    "    def wrapper():\n",
    "        print(\"call test()\")\n",
    "        result = func()\n",
    "        print(\"end test()\")\n",
    "        return result \n",
    "    return wrapper\n",
    "\n",
    "def hello(func):\n",
    "    print(\"hello\")\n",
    "    def wrapper():\n",
    "        print(\"hello test()\")\n",
    "        result = func()\n",
    "        print(\"goodbye test()\")\n",
    "        return result \n",
    "    return wrapper\n",
    "\n",
    "@log\n",
    "@hello\n",
    "def test():\n",
    "    print(\"this is what I want\")\n",
    "\n",
    "# test()"
   ]
  },
  {
   "cell_type": "markdown",
   "metadata": {},
   "source": [
    ">结论：装饰器函数在被装饰函数定义好后立即执行 并且是从下往上执行。"
   ]
  },
  {
   "cell_type": "code",
   "execution_count": 2,
   "metadata": {},
   "outputs": [
    {
     "name": "stdout",
     "output_type": "stream",
     "text": [
      "call test()\n",
      "hello test()\n",
      "this is what I want\n",
      "goodbye test()\n",
      "end test()\n"
     ]
    }
   ],
   "source": [
    "test()"
   ]
  },
  {
   "cell_type": "markdown",
   "metadata": {},
   "source": [
    ">结论：执行函数在执行的时候，顺序为log->hello->test->hello->log"
   ]
  },
  {
   "cell_type": "markdown",
   "metadata": {},
   "source": [
    "## 8. 使用@property"
   ]
  },
  {
   "cell_type": "markdown",
   "metadata": {},
   "source": [
    "### 8.1 引言"
   ]
  },
  {
   "cell_type": "markdown",
   "metadata": {},
   "source": [
    "在绑定属性时，如果我们直接把属性暴露出去，虽然写起来很简单，但是，没办法检查参数，导致可以把成绩随便改："
   ]
  },
  {
   "cell_type": "code",
   "execution_count": null,
   "metadata": {},
   "outputs": [],
   "source": [
    "s = Student()\n",
    "s.score = 9999"
   ]
  },
  {
   "cell_type": "markdown",
   "metadata": {},
   "source": [
    "这显然不合逻辑。为了限制score的范围，可以通过一个**set_score()** 方法来设置成绩，再通过一个**get_score()** 来获取成绩，这样，在set_score()方法里，就可以检查参数："
   ]
  },
  {
   "cell_type": "code",
   "execution_count": 4,
   "metadata": {},
   "outputs": [],
   "source": [
    "class Student(object):\n",
    "\n",
    "    def get_score(self):\n",
    "         return self._score\n",
    "\n",
    "    def set_score(self, value):\n",
    "        if not isinstance(value, int):\n",
    "            raise ValueError('score must be an integer!')\n",
    "        if value < 0 or value > 100:\n",
    "            raise ValueError('score must between 0 ~ 100!')\n",
    "        self._score = value\n"
   ]
  },
  {
   "cell_type": "code",
   "execution_count": 5,
   "metadata": {},
   "outputs": [
    {
     "name": "stdout",
     "output_type": "stream",
     "text": [
      "60\n"
     ]
    },
    {
     "ename": "ValueError",
     "evalue": "score must between 0 ~ 100!",
     "output_type": "error",
     "traceback": [
      "\u001b[1;31m---------------------------------------------------------------------------\u001b[0m",
      "\u001b[1;31mValueError\u001b[0m                                Traceback (most recent call last)",
      "\u001b[1;32m<ipython-input-5-f1be68ae4c02>\u001b[0m in \u001b[0;36m<module>\u001b[1;34m\u001b[0m\n\u001b[0;32m      2\u001b[0m \u001b[0ms\u001b[0m\u001b[1;33m.\u001b[0m\u001b[0mset_score\u001b[0m\u001b[1;33m(\u001b[0m\u001b[1;36m60\u001b[0m\u001b[1;33m)\u001b[0m \u001b[1;31m# ok!\u001b[0m\u001b[1;33m\u001b[0m\u001b[1;33m\u001b[0m\u001b[0m\n\u001b[0;32m      3\u001b[0m \u001b[0mprint\u001b[0m\u001b[1;33m(\u001b[0m\u001b[0ms\u001b[0m\u001b[1;33m.\u001b[0m\u001b[0mget_score\u001b[0m\u001b[1;33m(\u001b[0m\u001b[1;33m)\u001b[0m\u001b[1;33m)\u001b[0m\u001b[1;33m\u001b[0m\u001b[1;33m\u001b[0m\u001b[0m\n\u001b[1;32m----> 4\u001b[1;33m \u001b[0ms\u001b[0m\u001b[1;33m.\u001b[0m\u001b[0mset_score\u001b[0m\u001b[1;33m(\u001b[0m\u001b[1;36m9999\u001b[0m\u001b[1;33m)\u001b[0m\u001b[1;33m\u001b[0m\u001b[1;33m\u001b[0m\u001b[0m\n\u001b[0m",
      "\u001b[1;32m<ipython-input-4-ee6f51991b93>\u001b[0m in \u001b[0;36mset_score\u001b[1;34m(self, value)\u001b[0m\n\u001b[0;32m      8\u001b[0m             \u001b[1;32mraise\u001b[0m \u001b[0mValueError\u001b[0m\u001b[1;33m(\u001b[0m\u001b[1;34m'score must be an integer!'\u001b[0m\u001b[1;33m)\u001b[0m\u001b[1;33m\u001b[0m\u001b[1;33m\u001b[0m\u001b[0m\n\u001b[0;32m      9\u001b[0m         \u001b[1;32mif\u001b[0m \u001b[0mvalue\u001b[0m \u001b[1;33m<\u001b[0m \u001b[1;36m0\u001b[0m \u001b[1;32mor\u001b[0m \u001b[0mvalue\u001b[0m \u001b[1;33m>\u001b[0m \u001b[1;36m100\u001b[0m\u001b[1;33m:\u001b[0m\u001b[1;33m\u001b[0m\u001b[1;33m\u001b[0m\u001b[0m\n\u001b[1;32m---> 10\u001b[1;33m             \u001b[1;32mraise\u001b[0m \u001b[0mValueError\u001b[0m\u001b[1;33m(\u001b[0m\u001b[1;34m'score must between 0 ~ 100!'\u001b[0m\u001b[1;33m)\u001b[0m\u001b[1;33m\u001b[0m\u001b[1;33m\u001b[0m\u001b[0m\n\u001b[0m\u001b[0;32m     11\u001b[0m         \u001b[0mself\u001b[0m\u001b[1;33m.\u001b[0m\u001b[0m_score\u001b[0m \u001b[1;33m=\u001b[0m \u001b[0mvalue\u001b[0m\u001b[1;33m\u001b[0m\u001b[1;33m\u001b[0m\u001b[0m\n",
      "\u001b[1;31mValueError\u001b[0m: score must between 0 ~ 100!"
     ]
    }
   ],
   "source": [
    "s = Student()\n",
    "s.set_score(60) # ok!\n",
    "print(s.get_score())\n",
    "s.set_score(9999)"
   ]
  },
  {
   "cell_type": "markdown",
   "metadata": {},
   "source": [
    "### 8.2 @property"
   ]
  },
  {
   "cell_type": "markdown",
   "metadata": {},
   "source": [
    "1.把一个方法变成属性，只需要加上@property就可以了，此时，@property本身又创建了另一个装饰器@score.setter，负责把一个setter方法变成属性赋值，于是，我们就拥有一个可控的属性操作："
   ]
  },
  {
   "cell_type": "code",
   "execution_count": 6,
   "metadata": {},
   "outputs": [],
   "source": [
    "class Student(object):\n",
    " \n",
    "    @property\n",
    "    def score(self):\n",
    "        return self._score\n",
    "#  @property本身又创建了另一个装饰器@score.setter，负责把一个setter方法变成属性赋值\n",
    "    @score.setter\n",
    "    def score(self, value):\n",
    "        if not isinstance(value, int):\n",
    "            raise ValueError('score must be an integer!')\n",
    "        if value < 0 or value > 100:\n",
    "            raise ValueError('score must between 0 ~ 100!')\n",
    "        self._score = value"
   ]
  },
  {
   "cell_type": "code",
   "execution_count": 7,
   "metadata": {},
   "outputs": [
    {
     "name": "stdout",
     "output_type": "stream",
     "text": [
      "60\n"
     ]
    },
    {
     "ename": "ValueError",
     "evalue": "score must between 0 ~ 100!",
     "output_type": "error",
     "traceback": [
      "\u001b[1;31m---------------------------------------------------------------------------\u001b[0m",
      "\u001b[1;31mValueError\u001b[0m                                Traceback (most recent call last)",
      "\u001b[1;32m<ipython-input-7-81aec6bc0605>\u001b[0m in \u001b[0;36m<module>\u001b[1;34m\u001b[0m\n\u001b[0;32m      2\u001b[0m \u001b[0ms\u001b[0m\u001b[1;33m.\u001b[0m\u001b[0mscore\u001b[0m \u001b[1;33m=\u001b[0m \u001b[1;36m60\u001b[0m \u001b[1;31m# OK，实际转化为s.set_score(60)\u001b[0m\u001b[1;33m\u001b[0m\u001b[1;33m\u001b[0m\u001b[0m\n\u001b[0;32m      3\u001b[0m \u001b[0mprint\u001b[0m\u001b[1;33m(\u001b[0m\u001b[0ms\u001b[0m\u001b[1;33m.\u001b[0m\u001b[0mscore\u001b[0m\u001b[1;33m)\u001b[0m\u001b[1;33m\u001b[0m\u001b[1;33m\u001b[0m\u001b[0m\n\u001b[1;32m----> 4\u001b[1;33m \u001b[0ms\u001b[0m\u001b[1;33m.\u001b[0m\u001b[0mscore\u001b[0m \u001b[1;33m=\u001b[0m \u001b[1;36m9999\u001b[0m\u001b[1;33m\u001b[0m\u001b[1;33m\u001b[0m\u001b[0m\n\u001b[0m\u001b[0;32m      5\u001b[0m \u001b[0mprint\u001b[0m\u001b[1;33m(\u001b[0m\u001b[0ms\u001b[0m\u001b[1;33m.\u001b[0m\u001b[0mscore\u001b[0m\u001b[1;33m)\u001b[0m\u001b[1;33m\u001b[0m\u001b[1;33m\u001b[0m\u001b[0m\n",
      "\u001b[1;32m<ipython-input-6-5998599dbe55>\u001b[0m in \u001b[0;36mscore\u001b[1;34m(self, value)\u001b[0m\n\u001b[0;32m     10\u001b[0m             \u001b[1;32mraise\u001b[0m \u001b[0mValueError\u001b[0m\u001b[1;33m(\u001b[0m\u001b[1;34m'score must be an integer!'\u001b[0m\u001b[1;33m)\u001b[0m\u001b[1;33m\u001b[0m\u001b[1;33m\u001b[0m\u001b[0m\n\u001b[0;32m     11\u001b[0m         \u001b[1;32mif\u001b[0m \u001b[0mvalue\u001b[0m \u001b[1;33m<\u001b[0m \u001b[1;36m0\u001b[0m \u001b[1;32mor\u001b[0m \u001b[0mvalue\u001b[0m \u001b[1;33m>\u001b[0m \u001b[1;36m100\u001b[0m\u001b[1;33m:\u001b[0m\u001b[1;33m\u001b[0m\u001b[1;33m\u001b[0m\u001b[0m\n\u001b[1;32m---> 12\u001b[1;33m             \u001b[1;32mraise\u001b[0m \u001b[0mValueError\u001b[0m\u001b[1;33m(\u001b[0m\u001b[1;34m'score must between 0 ~ 100!'\u001b[0m\u001b[1;33m)\u001b[0m\u001b[1;33m\u001b[0m\u001b[1;33m\u001b[0m\u001b[0m\n\u001b[0m\u001b[0;32m     13\u001b[0m         \u001b[0mself\u001b[0m\u001b[1;33m.\u001b[0m\u001b[0m_score\u001b[0m \u001b[1;33m=\u001b[0m \u001b[0mvalue\u001b[0m\u001b[1;33m\u001b[0m\u001b[1;33m\u001b[0m\u001b[0m\n",
      "\u001b[1;31mValueError\u001b[0m: score must between 0 ~ 100!"
     ]
    }
   ],
   "source": [
    "s = Student()\n",
    "s.score = 60 # OK，实际转化为s.set_score(60)\n",
    "print(s.score)\n",
    "s.score = 9999\n",
    "print(s.score)"
   ]
  },
  {
   "cell_type": "markdown",
   "metadata": {},
   "source": [
    "2.还可以定义只读属性，只定义getter方法，不定义setter方法就是一个只读属性:"
   ]
  },
  {
   "cell_type": "code",
   "execution_count": null,
   "metadata": {},
   "outputs": [],
   "source": [
    "class Student(object):\n",
    "\n",
    "    @property\n",
    "    def birth(self):\n",
    "        return self._birth\n",
    "\n",
    "    @birth.setter\n",
    "    def birth(self, value):\n",
    "        self._birth = value\n",
    "\n",
    "    @property\n",
    "    def age(self):\n",
    "        return 2015 - self._birth"
   ]
  },
  {
   "cell_type": "markdown",
   "metadata": {},
   "source": [
    ">上面的birth是可读写属性，而age就是一个只读属性，因为age可以根据birth和当前时间计算出来。"
   ]
  },
  {
   "cell_type": "code",
   "execution_count": null,
   "metadata": {},
   "outputs": [],
   "source": []
  }
 ],
 "metadata": {
  "kernelspec": {
   "display_name": "Python 3",
   "language": "python",
   "name": "python3"
  },
  "language_info": {
   "codemirror_mode": {
    "name": "ipython",
    "version": 3
   },
   "file_extension": ".py",
   "mimetype": "text/x-python",
   "name": "python",
   "nbconvert_exporter": "python",
   "pygments_lexer": "ipython3",
   "version": "3.7.3"
  }
 },
 "nbformat": 4,
 "nbformat_minor": 2
}
