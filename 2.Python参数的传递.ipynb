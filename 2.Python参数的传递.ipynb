{
 "cells": [
  {
   "cell_type": "markdown",
   "metadata": {},
   "source": [
    "# Python参数的传递"
   ]
  },
  {
   "cell_type": "markdown",
   "metadata": {},
   "source": [
    "## 1.函数参数传递\n",
    "既不是传值，也不是传引用，。与C/C++不同"
   ]
  },
  {
   "cell_type": "code",
   "execution_count": 4,
   "metadata": {},
   "outputs": [
    {
     "name": "stdout",
     "output_type": "stream",
     "text": [
      "5 1987338528\n",
      "5 1987338528\n"
     ]
    }
   ],
   "source": [
    "def add(a):\n",
    "    a = a + 5\n",
    "a = 5\n",
    "print(a, id(a))\n",
    "add(a)\n",
    "print(a, id(a))"
   ]
  },
  {
   "cell_type": "code",
   "execution_count": 6,
   "metadata": {},
   "outputs": [
    {
     "name": "stdout",
     "output_type": "stream",
     "text": [
      "[1, 2, 3] 2221039812040\n",
      "[10, 2, 3] 2221039812040\n"
     ]
    }
   ],
   "source": [
    "def change_list(L):\n",
    "    L[0] = 10\n",
    "L = [1, 2, 3]\n",
    "print(L, id(L))\n",
    "change_list(L)\n",
    "print(L, id(L))"
   ]
  },
  {
   "cell_type": "markdown",
   "metadata": {
    "collapsed": true
   },
   "source": [
    "第一个例子和第二个例子进行对比，可以看到第二个的值在执行函数操作后变了，而第一个没变。"
   ]
  },
  {
   "cell_type": "markdown",
   "metadata": {},
   "source": [
    ">结论:Python函数参数传递的是**对象的引用**,参数传递的过程中将整个对象传入.\n",
    "对于**可变的对象(列表、词典、集合)**的修改在函数外部和内部都可见，调用者和被调用者共享这个对象。类似---值传递\n",
    "而对于**不可变对象（数字、字符串、元组）**，由于并不能真正被修改，因为修改一般都是通过生成一个新的对象然后赋值来实现的。类似--引用传递"
   ]
  },
  {
   "cell_type": "markdown",
   "metadata": {
    "collapsed": true
   },
   "source": [
    "## 2.位置传递和关键词传递"
   ]
  },
  {
   "cell_type": "code",
   "execution_count": 4,
   "metadata": {},
   "outputs": [
    {
     "name": "stdout",
     "output_type": "stream",
     "text": [
      "1 2 3\n",
      "1 2 3\n",
      "1 2 3\n"
     ]
    }
   ],
   "source": [
    "def func(a, b, c):\n",
    "    print(a, b, c)\n",
    "\n",
    "func(1, 2, 3) # 位置传递\n",
    "func(c=3, a=1, b=2) # 关键词传递，位置可以打乱\n",
    "func(1, c=3, b=2) # 关键字传递和位置传递混合，位置参数需要在关键字参数之前\n",
    "# func(a=1, 2, 3) # 错诶示范"
   ]
  },
  {
   "cell_type": "markdown",
   "metadata": {},
   "source": [
    "## 3.默认值参数"
   ]
  },
  {
   "cell_type": "markdown",
   "metadata": {},
   "source": [
    "没有默认值的参数要放在有默认值参数的前面"
   ]
  },
  {
   "cell_type": "code",
   "execution_count": 5,
   "metadata": {},
   "outputs": [
    {
     "name": "stdout",
     "output_type": "stream",
     "text": [
      "1 2 100\n",
      "1 2 3\n"
     ]
    }
   ],
   "source": [
    "def func(a, b, c=100):\n",
    "    print(a, b, c)\n",
    "\n",
    "func(1, 2) # 传递2个值，c没有被赋值，所以c将使用默认值\n",
    "func(1, 2, 3) # c被赋值为1，将不使用默认值"
   ]
  },
  {
   "cell_type": "code",
   "execution_count": 1,
   "metadata": {},
   "outputs": [
    {
     "ename": "SyntaxError",
     "evalue": "non-default argument follows default argument (<ipython-input-1-c4c58b6fe019>, line 1)",
     "output_type": "error",
     "traceback": [
      "\u001b[1;36m  File \u001b[1;32m\"<ipython-input-1-c4c58b6fe019>\"\u001b[1;36m, line \u001b[1;32m1\u001b[0m\n\u001b[1;33m    def func(a=10, b, c=100):\u001b[0m\n\u001b[1;37m            ^\u001b[0m\n\u001b[1;31mSyntaxError\u001b[0m\u001b[1;31m:\u001b[0m non-default argument follows default argument\n"
     ]
    }
   ],
   "source": [
    "# 会报错\n",
    "def func(a=10, b, c=100):\n",
    "    print(a, b, c)"
   ]
  },
  {
   "cell_type": "markdown",
   "metadata": {},
   "source": [
    "## 4.包裹传递"
   ]
  },
  {
   "cell_type": "markdown",
   "metadata": {},
   "source": [
    "### 4.1包裹位置传递"
   ]
  },
  {
   "cell_type": "code",
   "execution_count": 3,
   "metadata": {},
   "outputs": [
    {
     "name": "stdout",
     "output_type": "stream",
     "text": [
      "<class 'tuple'>\n",
      "([1, 2],)\n",
      "<class 'tuple'>\n",
      "(1, 2, 3)\n",
      "<class 'tuple'>\n",
      "(5, 6, 7, 1, 2, 3)\n"
     ]
    }
   ],
   "source": [
    "def func(*name):\n",
    "    print(type(name))\n",
    "    print(name)\n",
    "func([1,2])\n",
    "func(1,2,3)\n",
    "func(5,6,7,1,2,3)"
   ]
  },
  {
   "cell_type": "markdown",
   "metadata": {},
   "source": [
    ">结果分析：\n",
    "（1）两次调用，尽管参数个数不同，都基于同一个func定义。在func的参数表中，所有的参数被name收集，根据位置合并成一个元组(tuple)。\n",
    "（2）name是包裹位置传递所用的元组名，在定义func时，在name前加\\*号。"
   ]
  },
  {
   "cell_type": "markdown",
   "metadata": {},
   "source": [
    "### 4.2包裹关键字传递"
   ]
  },
  {
   "cell_type": "code",
   "execution_count": 6,
   "metadata": {
    "scrolled": true
   },
   "outputs": [
    {
     "name": "stdout",
     "output_type": "stream",
     "text": [
      "<class 'dict'>\n",
      "{'a': 1, 'b': 9}\n",
      "<class 'dict'>\n",
      "{'m': 2, 'n': 1, 'c': 11}\n"
     ]
    }
   ],
   "source": [
    "def func(**dict):\n",
    "    print(type(dict))\n",
    "    print(dict)\n",
    " \n",
    "func(a=1,b=9)\n",
    "func(m=2,n=1,c=11)"
   ]
  },
  {
   "cell_type": "markdown",
   "metadata": {},
   "source": [
    ">结果分析\n",
    "（1）dict是一个字典，收集所有的关键字，传递给函数func。参数dict是包裹关键字传递所用的字典，在dict前加**。"
   ]
  },
  {
   "cell_type": "markdown",
   "metadata": {},
   "source": [
    "**包裹位置传递和包裹关键字传递可混用**(包裹位置传递必须在前)\n",
    "例子如下："
   ]
  },
  {
   "cell_type": "code",
   "execution_count": 12,
   "metadata": {},
   "outputs": [
    {
     "name": "stdout",
     "output_type": "stream",
     "text": [
      "(1, 2)\n",
      "{'m': 3, 'n': 4}\n"
     ]
    }
   ],
   "source": [
    "def f(*a,**b):\n",
    "    print(a)\n",
    "    print(b)\n",
    "# h=[1, 2]\n",
    "# k={\"m\":3,\"n\":4}\n",
    "# f(*h,**k)\n",
    "f(1,2,m=3,n=4)"
   ]
  },
  {
   "cell_type": "markdown",
   "metadata": {},
   "source": [
    "## 5.解包裹（包裹和解包裹并不是相反操作，是两个相对独立的过程。）"
   ]
  },
  {
   "cell_type": "code",
   "execution_count": 7,
   "metadata": {},
   "outputs": [
    {
     "name": "stdout",
     "output_type": "stream",
     "text": [
      "1 2 3\n",
      "1 2 3\n"
     ]
    }
   ],
   "source": [
    "def func(a,b,c):\n",
    "    print(a,b,c)\n",
    "\n",
    "args = (1,2,3)\n",
    "func(*args)\n",
    "\n",
    "dict = {'a':1,'b':2,'c':3}\n",
    "func(**dict)"
   ]
  },
  {
   "cell_type": "code",
   "execution_count": 10,
   "metadata": {},
   "outputs": [
    {
     "name": "stdout",
     "output_type": "stream",
     "text": [
      "1\n",
      "2\n",
      "4\n",
      "3\n"
     ]
    }
   ],
   "source": [
    "def f(c,d,n,m):\n",
    "    print(c)\n",
    "    print(d)\n",
    "    print(n)\n",
    "    print(m)\n",
    "h=[1,2]\n",
    "k={\"m\":3,\"n\":4}\n",
    "f(*h,**k)"
   ]
  },
  {
   "cell_type": "markdown",
   "metadata": {},
   "source": [
    ">结果分析：\n",
    "（1）\\*和\\*\\*,也可以在解包裹的时使用。\n",
    "（2）在传递tuple时，让tuple的每一个元素对应一个位置参数。在调用func时使用\\*，把args拆成分散的三个元素，分别传递给a,b,c。\n",
    "（3）在传递词典dict时，让词典的每个键值对作为一个关键字传递给func。"
   ]
  },
  {
   "cell_type": "markdown",
   "metadata": {},
   "source": [
    "*****************************************"
   ]
  },
  {
   "cell_type": "markdown",
   "metadata": {},
   "source": [
    ">结论:\n",
    "在定义或者调用参数时，参数的几种传递方式可以混合。基本原则是，**先位置，再关键字，再包裹位置，再包裹关键字**。"
   ]
  }
 ],
 "metadata": {
  "kernelspec": {
   "display_name": "Python 3",
   "language": "python",
   "name": "python3"
  },
  "language_info": {
   "codemirror_mode": {
    "name": "ipython",
    "version": 3
   },
   "file_extension": ".py",
   "mimetype": "text/x-python",
   "name": "python",
   "nbconvert_exporter": "python",
   "pygments_lexer": "ipython3",
   "version": "3.6.3"
  }
 },
 "nbformat": 4,
 "nbformat_minor": 2
}
