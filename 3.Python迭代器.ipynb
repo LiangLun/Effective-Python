{
 "cells": [
  {
   "cell_type": "markdown",
   "metadata": {},
   "source": [
    "# Python迭代器"
   ]
  },
  {
   "cell_type": "markdown",
   "metadata": {},
   "source": [
    "## 1.可迭代对象、系列和迭代器判断"
   ]
  },
  {
   "cell_type": "markdown",
   "metadata": {},
   "source": [
    "### 1.1 可迭代对象 or 迭代器"
   ]
  },
  {
   "cell_type": "markdown",
   "metadata": {},
   "source": [
    "**可迭代**：在Python中如果一个对象有__iter__( )方法或__getitem__( )方法，则称这个对象是可迭代的（Iterable）；其中__iter__( )方法的作用是让对象可以用for ... in循环遍历，__getitem__( )方法是让对象可以通过“实例名[index]”的方式访问实例中的元素。换句话说，两个条件只要满足一条，就可以说对象是可迭代的。\n",
    "**迭代器**：在Python中如果一个对象有__iter__( )方法和__next__( )方法，则称这个对象是迭代器（Iterator）；其中__iter__( )方法是让对象可以用for ... in循环遍历，__next__( )方法是让对象可以通过next(实例名)访问下一个元素。注意：这两个方法必须同时具备，才能称之为迭代器。"
   ]
  },
  {
   "cell_type": "markdown",
   "metadata": {},
   "source": [
    "一个实现了iter方法的对象是可迭代的，一个实现next方法的对象是迭代器\n",
    "**可以被next()函数调用并不断返回下一个值的对象称为迭代器：Iterator。**"
   ]
  },
  {
   "cell_type": "markdown",
   "metadata": {},
   "source": [
    "利用**collections模块**可以判断可迭代对象还是迭代器，方法如下："
   ]
  },
  {
   "cell_type": "markdown",
   "metadata": {},
   "source": [
    "from collections import Iterator  #迭代器\n",
    "from collections import Iterable  #可迭代对象\n",
    " \n",
    "print(isinstance(s,Iterator))     #判断是不是迭代器\n",
    "print(isinstance(s,Iterable))       #判断是不是可迭代对象"
   ]
  },
  {
   "cell_type": "markdown",
   "metadata": {},
   "source": [
    ">判断下列数据类型是可迭代对象or迭代器"
   ]
  },
  {
   "cell_type": "code",
   "execution_count": 3,
   "metadata": {},
   "outputs": [
    {
     "name": "stdout",
     "output_type": "stream",
     "text": [
      "True False\n",
      "True False\n",
      "True False\n",
      "True False\n",
      "True False\n"
     ]
    }
   ],
   "source": [
    "s='hello'     #字符串是可迭代对象，但不是迭代器\n",
    "l=[1,2,3,4]     #列表是可迭代对象，但不是迭代器\n",
    "t=(1,2,3)       #元组是可迭代对象，但不是迭代器\n",
    "d={'a':1}        #字典是可迭代对象，但不是迭代器\n",
    "set={1,2,3}     #集合是可迭代对象，但不是迭代器\n",
    "# *************************************\n",
    "# f=open('test.txt') #文件是可迭代对象，是迭代器\n",
    "\n",
    "from collections import Iterator  #迭代器\n",
    "from collections import Iterable  #可迭代对象\n",
    "\n",
    "print(isinstance(s,Iterable),isinstance(s,Iterator))     \n",
    "print(isinstance(l,Iterable),isinstance(l,Iterator))  \n",
    "print(isinstance(t,Iterable),isinstance(t,Iterator))  \n",
    "print(isinstance(d,Iterable),isinstance(d,Iterator))  \n",
    "print(isinstance(set,Iterable),isinstance(set,Iterator)) \n",
    "# print(isinstance(set,Iterable),isinstance(set,Iterator)) "
   ]
  },
  {
   "cell_type": "markdown",
   "metadata": {},
   "source": [
    ">小结：\n",
    "凡是可作用于for循环的对象都是Iterable类型；\n",
    "凡是可作用于next()函数的对象都是Iterator类型，它们表示一个惰性计算的序列；\n",
    "集合数据类型如list、dict、str等是Iterable但不是Iterator，不过可以通过iter()函数获得一个Iterator对象；\n",
    "**文件是可迭代对象，是迭代器**。"
   ]
  },
  {
   "cell_type": "markdown",
   "metadata": {},
   "source": [
    "### 1.2 可迭代 or 序列"
   ]
  },
  {
   "cell_type": "markdown",
   "metadata": {},
   "source": [
    "可迭代是任何你可以用 Python 中的 for 循环遍历的东西。可迭代意味着可以遍历，任何可以遍历的东西都是可迭代的。\n",
    "序列是一种非常常见的可迭代类型，它有一些特定的特征集，它可以从 0 开始索引，以小于序列的长度结束，它有一个长度并且可以被切分。"
   ]
  },
  {
   "cell_type": "code",
   "execution_count": 4,
   "metadata": {},
   "outputs": [
    {
     "name": "stdout",
     "output_type": "stream",
     "text": [
      "1\n",
      "7\n",
      "o\n"
     ]
    },
    {
     "ename": "TypeError",
     "evalue": "'set' object does not support indexing",
     "output_type": "error",
     "traceback": [
      "\u001b[1;31m---------------------------------------------------------------------------\u001b[0m",
      "\u001b[1;31mTypeError\u001b[0m                                 Traceback (most recent call last)",
      "\u001b[1;32m<ipython-input-4-6e59821c8a03>\u001b[0m in \u001b[0;36m<module>\u001b[1;34m()\u001b[0m\n\u001b[0;32m      6\u001b[0m \u001b[0mprint\u001b[0m\u001b[1;33m(\u001b[0m\u001b[0mcoordinates\u001b[0m\u001b[1;33m[\u001b[0m\u001b[1;36m2\u001b[0m\u001b[1;33m]\u001b[0m\u001b[1;33m)\u001b[0m\u001b[1;33m\u001b[0m\u001b[0m\n\u001b[0;32m      7\u001b[0m \u001b[0mprint\u001b[0m\u001b[1;33m(\u001b[0m\u001b[0mwords\u001b[0m\u001b[1;33m[\u001b[0m\u001b[1;36m4\u001b[0m\u001b[1;33m]\u001b[0m\u001b[1;33m)\u001b[0m\u001b[1;33m\u001b[0m\u001b[0m\n\u001b[1;32m----> 8\u001b[1;33m \u001b[0mprint\u001b[0m\u001b[1;33m(\u001b[0m\u001b[0mfruits\u001b[0m\u001b[1;33m[\u001b[0m\u001b[1;36m0\u001b[0m\u001b[1;33m]\u001b[0m\u001b[1;33m)\u001b[0m\u001b[1;33m\u001b[0m\u001b[0m\n\u001b[0m",
      "\u001b[1;31mTypeError\u001b[0m: 'set' object does not support indexing"
     ]
    }
   ],
   "source": [
    "numbers = [1,2,3,5,7]\n",
    "coordinates = (4,5,7)\n",
    "words = \"hello there\"\n",
    "fruits = {'lemon','apple','orange','watermelon'}\n",
    "print(numbers[0])\n",
    "print(coordinates[2])\n",
    "print(words[4])\n",
    "print(fruits[0])"
   ]
  },
  {
   "cell_type": "markdown",
   "metadata": {},
   "source": [
    ">小结：\n",
    "列表、元组和字符串都是序列。集合不是序列，所以不支持索引。\n",
    "**集合、字典、文件和生成器都是可迭代的，但是它们都不是序列**"
   ]
  },
  {
   "cell_type": "markdown",
   "metadata": {},
   "source": [
    "## 2.迭代器的实现"
   ]
  },
  {
   "cell_type": "markdown",
   "metadata": {},
   "source": [
    "可以被next()函数调用并不断返回下一个值的对象称为迭代器：Iterator。\n",
    "next 两种方式 t.__next__()  |  next(t)。"
   ]
  },
  {
   "cell_type": "code",
   "execution_count": 1,
   "metadata": {},
   "outputs": [
    {
     "name": "stdout",
     "output_type": "stream",
     "text": [
      "<list_iterator object at 0x0000026B516E8B38>\n",
      "1\n",
      "2\n",
      "3\n"
     ]
    },
    {
     "ename": "StopIteration",
     "evalue": "",
     "output_type": "error",
     "traceback": [
      "\u001b[1;31m---------------------------------------------------------------------------\u001b[0m",
      "\u001b[1;31mStopIteration\u001b[0m                             Traceback (most recent call last)",
      "\u001b[1;32m<ipython-input-1-c84dfbd8fb96>\u001b[0m in \u001b[0;36m<module>\u001b[1;34m()\u001b[0m\n\u001b[0;32m      5\u001b[0m \u001b[0mprint\u001b[0m\u001b[1;33m(\u001b[0m\u001b[0mnext\u001b[0m\u001b[1;33m(\u001b[0m\u001b[0miterator\u001b[0m\u001b[1;33m)\u001b[0m\u001b[1;33m)\u001b[0m\u001b[1;33m\u001b[0m\u001b[0m\n\u001b[0;32m      6\u001b[0m \u001b[0mprint\u001b[0m\u001b[1;33m(\u001b[0m\u001b[0mnext\u001b[0m\u001b[1;33m(\u001b[0m\u001b[0miterator\u001b[0m\u001b[1;33m)\u001b[0m\u001b[1;33m)\u001b[0m\u001b[1;33m\u001b[0m\u001b[0m\n\u001b[1;32m----> 7\u001b[1;33m \u001b[0mprint\u001b[0m\u001b[1;33m(\u001b[0m\u001b[0mnext\u001b[0m\u001b[1;33m(\u001b[0m\u001b[0miterator\u001b[0m\u001b[1;33m)\u001b[0m\u001b[1;33m)\u001b[0m\u001b[1;33m\u001b[0m\u001b[0m\n\u001b[0m\u001b[0;32m      8\u001b[0m \u001b[0mprint\u001b[0m\u001b[1;33m(\u001b[0m\u001b[0mnext\u001b[0m\u001b[1;33m(\u001b[0m\u001b[0miterator\u001b[0m\u001b[1;33m)\u001b[0m\u001b[1;33m)\u001b[0m\u001b[1;33m\u001b[0m\u001b[0m\n",
      "\u001b[1;31mStopIteration\u001b[0m: "
     ]
    }
   ],
   "source": [
    "numbers = [1,2,3]\n",
    "iterator = iter(numbers)\n",
    "print(iterator)\n",
    "print(iterator.__next__())\n",
    "print(next(iterator))\n",
    "print(next(iterator))\n",
    "print(next(iterator))\n",
    "print(next(iterator))"
   ]
  },
  {
   "cell_type": "markdown",
   "metadata": {},
   "source": [
    "iter()将可迭代对象转化成迭代器。用next()来获取迭代器中的项，但是其中没有更多的项了，将得到一个 StopIteration异常。"
   ]
  },
  {
   "cell_type": "markdown",
   "metadata": {},
   "source": [
    "## 3.迭代器驱动 for 循环"
   ]
  },
  {
   "cell_type": "markdown",
   "metadata": {
    "collapsed": true
   },
   "source": [
    "Python的for循环本质上就是通过不断调用next()函数实现的，例如："
   ]
  },
  {
   "cell_type": "code",
   "execution_count": null,
   "metadata": {
    "collapsed": true
   },
   "outputs": [],
   "source": [
    "for x in [1, 2, 3, 4, 5]:\n",
    "    pass"
   ]
  },
  {
   "cell_type": "markdown",
   "metadata": {},
   "source": [
    "实际上完全等价于"
   ]
  },
  {
   "cell_type": "code",
   "execution_count": null,
   "metadata": {
    "collapsed": true
   },
   "outputs": [],
   "source": [
    "# 首先获得Iterator对象:\n",
    "it = iter([1, 2, 3, 4, 5])\n",
    "# 循环:\n",
    "while True:\n",
    "    try:\n",
    "        # 获得下一个值:\n",
    "        x = next(it)\n",
    "    except StopIteration:\n",
    "        # 遇到StopIteration就退出循环\n",
    "        break"
   ]
  },
  {
   "cell_type": "markdown",
   "metadata": {
    "collapsed": true
   },
   "source": [
    "## 4.使用迭代器协议的东西"
   ]
  },
  {
   "cell_type": "markdown",
   "metadata": {
    "collapsed": true
   },
   "source": [
    "（1）for 循环使用了迭代器协议"
   ]
  },
  {
   "cell_type": "code",
   "execution_count": null,
   "metadata": {
    "collapsed": true
   },
   "outputs": [],
   "source": [
    "numbers = [1, 2, 3, 4, 5]\n",
    "for n in numbers:\n",
    "    print(n)"
   ]
  },
  {
   "cell_type": "markdown",
   "metadata": {},
   "source": [
    "（2）多重赋值也使用迭代器协议"
   ]
  },
  {
   "cell_type": "code",
   "execution_count": 6,
   "metadata": {},
   "outputs": [
    {
     "name": "stdout",
     "output_type": "stream",
     "text": [
      "2 1\n"
     ]
    }
   ],
   "source": [
    "a, b = 1, 2\n",
    "a, b = b, a\n",
    "print(a, b)"
   ]
  },
  {
   "cell_type": "markdown",
   "metadata": {},
   "source": [
    "（3）拆包也是迭代"
   ]
  },
  {
   "cell_type": "code",
   "execution_count": 8,
   "metadata": {
    "scrolled": true
   },
   "outputs": [
    {
     "name": "stdout",
     "output_type": "stream",
     "text": [
      "3 4\n",
      "apples oranges\n",
      "apples\n",
      "oranges\n"
     ]
    }
   ],
   "source": [
    "a, b = [3, 4]\n",
    "print(a, b)\n",
    "counts = {'apples': 2, 'oranges': 1}\n",
    "x, y = counts\n",
    "print(x, y)\n",
    "# 比较\n",
    "for key in counts:\n",
    "    print(key)"
   ]
  },
  {
   "cell_type": "markdown",
   "metadata": {},
   "source": [
    "当你在字典上循环时，你会得到键；对一个字典进行拆包时，你也会得到键。这两者都用到了迭代器协议。"
   ]
  },
  {
   "cell_type": "markdown",
   "metadata": {},
   "source": [
    "（4）星型表达式也是用迭代器协议"
   ]
  },
  {
   "cell_type": "code",
   "execution_count": 1,
   "metadata": {},
   "outputs": [
    {
     "name": "stdout",
     "output_type": "stream",
     "text": [
      "[3, 4, 5]\n"
     ]
    }
   ],
   "source": [
    "numbers = [1, 2, 3, 4, 5]\n",
    "a,b, *rest = numbers\n",
    "print(*rest)"
   ]
  },
  {
   "cell_type": "markdown",
   "metadata": {},
   "source": [
    "（5）许多内置函数/对象依赖于迭代器协议。\n",
    "Python 的 enumerate 和 reversed 对象就是迭代器；\n",
    "Python 3 中，zip, map 和 filter 也是迭代器。"
   ]
  },
  {
   "cell_type": "code",
   "execution_count": null,
   "metadata": {
    "collapsed": true
   },
   "outputs": [],
   "source": [
    "numbers = [1, 2, 3, 3, 4, 5]\n",
    "unique_numbers = set(numbers)"
   ]
  },
  {
   "cell_type": "code",
   "execution_count": 5,
   "metadata": {},
   "outputs": [
    {
     "name": "stdout",
     "output_type": "stream",
     "text": [
      "<enumerate object at 0x000001687005E558>\n",
      "(0, 'a')\n",
      "<zip object at 0x0000016870059E88>\n",
      "(1, 'a')\n"
     ]
    }
   ],
   "source": [
    "letters = ['a','b','c']\n",
    "e = enumerate(letters)\n",
    "print(e)\n",
    "print(next(e))\n",
    "z = zip(numbers,letters)\n",
    "print(z)\n",
    "print(next(z))"
   ]
  },
  {
   "cell_type": "code",
   "execution_count": null,
   "metadata": {
    "collapsed": true
   },
   "outputs": [],
   "source": []
  },
  {
   "cell_type": "markdown",
   "metadata": {},
   "source": [
    "在 Python 中任何与迭代器一起工作的东西都可能以某种方式使用迭代器协议。**每当你在 Python 中遍历一个可迭代对象时，你将依赖于迭代器协议。**"
   ]
  },
  {
   "cell_type": "markdown",
   "metadata": {
    "collapsed": true
   },
   "source": [
    "## 5.迭代器的性质"
   ]
  },
  {
   "cell_type": "markdown",
   "metadata": {},
   "source": [
    "（1）**迭代器是可迭代的**\n",
    "当我们在可迭代对象上调用 iter 时，它会给我们返回一个迭代器；\n",
    "**当我们在迭代器上调用 iter 时，它会给我们返回它自己。**"
   ]
  },
  {
   "cell_type": "code",
   "execution_count": 2,
   "metadata": {},
   "outputs": [
    {
     "name": "stdout",
     "output_type": "stream",
     "text": [
      "<list_iterator object at 0x000001687004D5C0>\n",
      "<list_iterator object at 0x000001687004D5C0>\n"
     ]
    },
    {
     "data": {
      "text/plain": [
       "True"
      ]
     },
     "execution_count": 2,
     "metadata": {},
     "output_type": "execute_result"
    }
   ],
   "source": [
    "numbers = [1,2,3]\n",
    "iterator1 = iter(numbers)\n",
    "print(iterator1)\n",
    "iterator2 = iter(iterator1)\n",
    "print(iterator2)\n",
    "iterator1 is iterator2"
   ]
  },
  {
   "cell_type": "markdown",
   "metadata": {},
   "source": [
    "（2）迭代器没有长度，不能被索引\n",
    "将其传递给内置的 next 函数，或者对其进行循环遍历(for或list)"
   ]
  },
  {
   "cell_type": "code",
   "execution_count": null,
   "metadata": {
    "collapsed": true
   },
   "outputs": [],
   "source": [
    "numbers = [1,2,3,5,7]\n",
    "iterator = iter(numbers)\n",
    "# len(iterator)  # 会报错\n",
    "# iterator[0]  # 会报错"
   ]
  },
  {
   "cell_type": "markdown",
   "metadata": {},
   "source": [
    "（3）**迭代器是惰性迭代器**，它们是一次性使用，意味着它们只能循环遍历一次"
   ]
  },
  {
   "cell_type": "code",
   "execution_count": 15,
   "metadata": {},
   "outputs": [
    {
     "name": "stdout",
     "output_type": "stream",
     "text": [
      "第一次遍历\n",
      "1\n",
      "第一次遍历\n",
      "2\n",
      "第一次遍历\n",
      "3\n",
      "第一次遍历\n",
      "5\n",
      "第一次遍历\n",
      "7\n"
     ]
    }
   ],
   "source": [
    "numbers = [1,2,3,5,7]\n",
    "iterator = iter(numbers)\n",
    "for x in iterator:\n",
    "    print(\"第一次遍历\")\n",
    "    print(x)\n",
    "# print(next(iterator))\n",
    "for x in iterator:\n",
    "    print(\"第二次遍历\")\n",
    "    print(x)"
   ]
  },
  {
   "cell_type": "code",
   "execution_count": 4,
   "metadata": {},
   "outputs": [
    {
     "name": "stdout",
     "output_type": "stream",
     "text": [
      "1\n",
      "[2, 3, 5, 7]\n",
      "[]\n"
     ]
    }
   ],
   "source": [
    "numbers = [1,2,3,5,7]\n",
    "iterator = iter(numbers)\n",
    "print(next(iterator))\n",
    "print(list(iterator))\n",
    "# 第二次循环遍历\n",
    "print(list(iterator))"
   ]
  },
  {
   "cell_type": "markdown",
   "metadata": {},
   "source": [
    "## 6 创建你自己的迭代器"
   ]
  },
  {
   "cell_type": "markdown",
   "metadata": {},
   "source": [
    "下面这个类构造了一个迭代器接受一个可迭代的数字，并在循环结束时提供每个数字的平方。"
   ]
  },
  {
   "cell_type": "code",
   "execution_count": null,
   "metadata": {
    "collapsed": true
   },
   "outputs": [],
   "source": [
    "classsquare_all:\n",
    "    def__init__(self,numbers):\n",
    "        self.numbers = iter(numbers)\n",
    "    def__next__(self):\n",
    "        return next(self.numbers) * 2\n",
    "    def__iter__(self):\n",
    "        return self"
   ]
  },
  {
   "cell_type": "markdown",
   "metadata": {},
   "source": [
    "我们有一个无限长的可迭代对象 count，你可以看到 square_all 接受 count 而不用完全循环遍历这个无限长的迭代:"
   ]
  },
  {
   "cell_type": "code",
   "execution_count": null,
   "metadata": {
    "collapsed": true
   },
   "outputs": [],
   "source": [
    "from itertools import count\n",
    "numbers = count(5)\n",
    "squares = square_all(numbers)\n",
    "print(next(squares))\n",
    "print(next(squares))"
   ]
  },
  {
   "cell_type": "markdown",
   "metadata": {},
   "source": [
    ">这个迭代器类是有效的，但我们通常不会这样做。通常，当我们想要做一个定制的迭代器时，我们会生成一个生成器函数"
   ]
  }
 ],
 "metadata": {
  "kernelspec": {
   "display_name": "Python 3",
   "language": "python",
   "name": "python3"
  },
  "language_info": {
   "codemirror_mode": {
    "name": "ipython",
    "version": 3
   },
   "file_extension": ".py",
   "mimetype": "text/x-python",
   "name": "python",
   "nbconvert_exporter": "python",
   "pygments_lexer": "ipython3",
   "version": "3.7.3"
  }
 },
 "nbformat": 4,
 "nbformat_minor": 2
}
