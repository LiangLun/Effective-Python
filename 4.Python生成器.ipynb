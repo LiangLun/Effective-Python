{
 "cells": [
  {
   "cell_type": "markdown",
   "metadata": {},
   "source": [
    "# Python生成器"
   ]
  },
  {
   "cell_type": "markdown",
   "metadata": {},
   "source": [
    "在Python中，生成器是迭代器的一种。"
   ]
  },
  {
   "cell_type": "markdown",
   "metadata": {},
   "source": [
    "通过列表生成式，我们可以直接创建一个列表。但是，受到内存限制，列表容量肯定是有限的。而且，创建一个包含100万个元素的列表，不仅占用很大的存储空间，如果我们仅仅需要访问前面几个元素，那后面绝大多数元素占用的空间都白白浪费了。\n",
    "所以，如果列表元素可以按照某种算法推算出来，那我们是否可以在循环的过程中不断推算出后续的元素呢？这样就不必创建完整的list，从而**节省大量的空间**。\n",
    "**在Python中，这种一边循环一边计算的机制，称为生成器（Generator）。**"
   ]
  },
  {
   "cell_type": "markdown",
   "metadata": {},
   "source": [
    "## 1.生成器创建方法"
   ]
  },
  {
   "cell_type": "markdown",
   "metadata": {},
   "source": [
    "### 1.1 方法一：通过()"
   ]
  },
  {
   "cell_type": "markdown",
   "metadata": {},
   "source": [
    "一边循环一边计算的机制，称为生成器：generator。\n",
    "要创建一个generator，有很多种方法，第一种方法很简单，只有把一个列表生成式的[]中括号改为（）小括号，就创建一个generator"
   ]
  },
  {
   "cell_type": "code",
   "execution_count": 1,
   "metadata": {
    "scrolled": true
   },
   "outputs": [
    {
     "name": "stdout",
     "output_type": "stream",
     "text": [
      "[0, 1, 4, 9, 16, 25, 36, 49, 64, 81]\n",
      "<generator object <genexpr> at 0x0000022E0D3C8F68>\n"
     ]
    }
   ],
   "source": [
    "#列表生成式\n",
    "lis = [x*x for x in range(10)]\n",
    "print(lis)\n",
    "#生成器\n",
    "generator_ex = (x*x for x in range(10))\n",
    "print(generator_ex)"
   ]
  },
  {
   "cell_type": "markdown",
   "metadata": {},
   "source": [
    "### 1.2 方法二：通过yield "
   ]
  },
  {
   "cell_type": "markdown",
   "metadata": {},
   "source": [
    " 如果一个函数中包含yield关键字，那么这个函数就不再是一个普通函数，而是一个generator。调用函数就是创建了一个生成器（generator）对象。"
   ]
  },
  {
   "cell_type": "markdown",
   "metadata": {},
   "source": [
    "可用next()调用生成器对象来取值。next 两种方式 t.__next__() | next(t)。\n",
    "yield相当于 return 返回一个值，并且记住这个返回的位置，**下次迭代时，代码从yield的下一条语句开始执行**。\n",
    "send() 和next()一样，都能让生成器继续往下走一步（下次遇到yield停），但**send()能传一个值，这个值作为yield表达式整体的结果**。"
   ]
  },
  {
   "cell_type": "code",
   "execution_count": 5,
   "metadata": {},
   "outputs": [
    {
     "name": "stdout",
     "output_type": "stream",
     "text": [
      "<generator object test at 0x0000026FB2B2C0A0>\n",
      "-------\n",
      "0\n",
      "-------\n",
      "None\n",
      "1\n",
      "-------\n",
      "None\n",
      "2\n",
      "-------\n",
      "hello\n",
      "3\n"
     ]
    }
   ],
   "source": [
    "def test():\n",
    "    i = 0\n",
    "    while i < 5:\n",
    "        temp = yield i\n",
    "        print(temp)\n",
    "#         print(i)\n",
    "        i += 1\n",
    "a = test()\n",
    "print(a)\n",
    "print(\"-------\")\n",
    "print(a.__next__())\n",
    "print(\"-------\")\n",
    "print(a.__next__())\n",
    "print(\"-------\")\n",
    "print(a.__next__())\n",
    "print(\"-------\")\n",
    "print(a.send(\"hello\"))"
   ]
  },
  {
   "cell_type": "markdown",
   "metadata": {},
   "source": [
    ">结果分析：\n",
    "可以看到该函数加入了yield后，变成了生成器。\n",
    "第一次取值：yield 返回了 i 值 0，停在yield i，temp没赋到值。\n",
    "第二次取值：开始在print，temp没被赋值，故打印None；i加1，继续while判断，yield  返回了i值 1，停在yield。\n",
    "第三次取值：开始在print，temp没被赋值，故打印None；i加1，继续while判断，yield  返回了i值 1，停在yield。\n",
    "第四次取值：send可以强行修改上一个yield表达式值，这里把temp修改为hello，i不变；i加1，继续while判断，yield  返回了i值 1，停在yield。"
   ]
  },
  {
   "cell_type": "markdown",
   "metadata": {},
   "source": [
    "************************************************"
   ]
  },
  {
   "cell_type": "markdown",
   "metadata": {},
   "source": [
    "## 2.生成器例子"
   ]
  },
  {
   "cell_type": "markdown",
   "metadata": {},
   "source": [
    "**例子1.耗尽的迭代器**"
   ]
  },
  {
   "cell_type": "code",
   "execution_count": 3,
   "metadata": {},
   "outputs": [
    {
     "name": "stdout",
     "output_type": "stream",
     "text": [
      "[1, 4, 9, 25, 49]\n",
      "0\n"
     ]
    }
   ],
   "source": [
    "numbers = [1,2,3,5,7]\n",
    "squares = (n**2 for n in numbers)\n",
    "print(list(squares))\n",
    "print(sum(squares))"
   ]
  },
  {
   "cell_type": "markdown",
   "metadata": {},
   "source": [
    "原因：因为生成器是迭代器，是一次性使用的。第二次遍历的时候就为空了。"
   ]
  },
  {
   "cell_type": "markdown",
   "metadata": {},
   "source": [
    "**例子2.部分消耗一个迭代器**"
   ]
  },
  {
   "cell_type": "code",
   "execution_count": 2,
   "metadata": {},
   "outputs": [
    {
     "name": "stdout",
     "output_type": "stream",
     "text": [
      "True\n",
      "True\n",
      "False\n"
     ]
    }
   ],
   "source": [
    "numbers = [1,2,3,5,7]\n",
    "squares = (n**2 for n in numbers)\n",
    "print(4 in squares)\n",
    "print(25 in squares)\n",
    "print(25 in squares)"
   ]
  },
  {
   "cell_type": "markdown",
   "metadata": {},
   "source": [
    "原因：检查4的时候已经遍历了1和4，生成器就只剩后面3个数了，所以第二次检查25的时候，25还在。第二次检查25的时候，生成器中只剩最后一个数了，就没有25了。"
   ]
  },
  {
   "cell_type": "markdown",
   "metadata": {},
   "source": [
    "**例子3.yield运用**"
   ]
  },
  {
   "cell_type": "markdown",
   "metadata": {},
   "source": [
    "理解的关键在于：下次迭代时，代码从yield的下一条语句开始执行。"
   ]
  },
  {
   "cell_type": "code",
   "execution_count": 2,
   "metadata": {},
   "outputs": [
    {
     "name": "stdout",
     "output_type": "stream",
     "text": [
      "0 ,\n",
      "i= 0\n",
      "2 ,\n",
      "i= 1\n",
      "4 ,\n",
      "i= 2\n",
      "6 ,\n",
      "i= 3\n",
      "8 ,\n",
      "i= 4\n",
      "Done.\n"
     ]
    }
   ],
   "source": [
    "def yield_test(n):  \n",
    "    for i in range(n):  \n",
    "        yield call(i)  \n",
    "        print(\"i=\",i)      \n",
    "    print(\"Done.\")  \n",
    "  \n",
    "def call(i):  \n",
    "    return i*2  \n",
    "\n",
    "for i in yield_test(5):  \n",
    "    print(i,\",\")"
   ]
  },
  {
   "cell_type": "code",
   "execution_count": 6,
   "metadata": {},
   "outputs": [
    {
     "name": "stdout",
     "output_type": "stream",
     "text": [
      "5 ,\n",
      "newn 3\n",
      "if\n",
      "n = 3\n",
      "newn None\n",
      "2 ,\n",
      "newn None\n",
      "1 ,\n",
      "newn None\n",
      "0 ,\n",
      "newn None\n"
     ]
    }
   ],
   "source": [
    "def count_down(n):\n",
    "    while n >= 0:\n",
    "        newn = yield n\n",
    "        print('newn', newn)\n",
    "        if newn:\n",
    "            print('if')\n",
    "            n = newn\n",
    "            print('n =', n)\n",
    "        else:\n",
    "            n -= 1\n",
    "\n",
    "\n",
    "cd = count_down(5)\n",
    "for i in cd:\n",
    "    print(i, ',')\n",
    "    if i == 5:\n",
    "        cd.send(3)"
   ]
  }
 ],
 "metadata": {
  "kernelspec": {
   "display_name": "Python 3",
   "language": "python",
   "name": "python3"
  },
  "language_info": {
   "codemirror_mode": {
    "name": "ipython",
    "version": 3
   },
   "file_extension": ".py",
   "mimetype": "text/x-python",
   "name": "python",
   "nbconvert_exporter": "python",
   "pygments_lexer": "ipython3",
   "version": "3.6.3"
  }
 },
 "nbformat": 4,
 "nbformat_minor": 2
}
